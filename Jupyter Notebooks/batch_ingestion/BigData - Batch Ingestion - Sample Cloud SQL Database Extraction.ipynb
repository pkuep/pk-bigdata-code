{
 "cells": [
  {
   "cell_type": "markdown",
   "metadata": {},
   "source": [
    "# Install required package pymysql"
   ]
  },
  {
   "cell_type": "code",
   "execution_count": 13,
   "metadata": {},
   "outputs": [
    {
     "name": "stdout",
     "output_type": "stream",
     "text": [
      "Requirement already satisfied: sqlalchemy in /opt/conda/lib/python3.7/site-packages (1.3.19)\n"
     ]
    }
   ],
   "source": [
    "!pip install pymysql"
   ]
  },
  {
   "cell_type": "markdown",
   "metadata": {},
   "source": [
    "# Connect to the database"
   ]
  },
  {
   "cell_type": "code",
   "execution_count": 21,
   "metadata": {},
   "outputs": [
    {
     "data": {
      "text/plain": [
       "<pymysql.connections.Connection at 0x7f45ab9edd90>"
      ]
     },
     "execution_count": 21,
     "metadata": {},
     "output_type": "execute_result"
    }
   ],
   "source": [
    "conn = pymysql.connect(host='<cloud SQL IP>', user='root', password='', db='webshop')\n",
    "conn"
   ]
  },
  {
   "cell_type": "markdown",
   "metadata": {},
   "source": [
    "# Retrieve all rows from table sales and print the output locally"
   ]
  },
  {
   "cell_type": "code",
   "execution_count": 38,
   "metadata": {},
   "outputs": [
    {
     "name": "stdout",
     "output_type": "stream",
     "text": [
      "date, weekday, region, age_group, product, product_group, sales_value\n",
      "2020-04-03, Friday, North, 50-, whiskey, 3, 21.5\n",
      "2020-04-01, Wednesday, North, 50-, white wine, 1, 4.4\n",
      "2020-04-01, Wednesday, South, 18-29, red wine, 1, 12.8\n",
      "2020-05-28, Thursday, Middle, 30-49, lager, 2, 47.1\n",
      "2020-06-10, Wednesday, North, 50-, grappa, 3, 14.4\n",
      "2020-06-11, Thursday, Middle, 18-29, red wine, 1, 13.5\n",
      "2020-03-11, Wednesday, North, 18-29, red wine, 1, 4.0\n",
      "2020-05-07, Thursday, North, 50-, grappa, 3, 17.3\n",
      "2020-04-10, Friday, Middle, 30-49, red wine, 1, 10.6\n",
      "2020-01-24, Friday, North, 30-49, pils, 2, 29.4\n",
      "2020-04-13, Monday, North, 18-29, pils, 2, 54.0\n",
      "2020-02-26, Wednesday, North, 50-, red wine, 1, 4.5\n",
      "2020-04-11, Saturday, Middle, 18-29, whiskey, 3, 45.3\n",
      "2020-03-15, Sunday, South, 50-, white wine, 1, 16.7\n",
      "2020-05-15, Friday, South, 30-49, white wine, 1, 32.7\n",
      "2020-03-04, Wednesday, North, 50-, pils, 2, 33.2\n",
      "2020-05-10, Sunday, Middle, 50-, rosé wine, 1, 5.6\n",
      "2020-02-19, Wednesday, North, 50-, white wine, 1, 5.4\n",
      "2020-03-04, Wednesday, Middle, 30-49, rosé wine, 1, 24.2\n",
      "2020-05-28, Thursday, Middle, 50-, white wine, 1, 13.3\n",
      "2020-01-24, Friday, Middle, 50-, white wine, 1, 14.9\n",
      "2020-02-19, Wednesday, Middle, 50-, whiskey, 3, 34.9\n",
      "2020-05-27, Wednesday, Middle, 50-, whiskey, 3, 45.6\n",
      "2020-01-23, Thursday, South, 50-, white wine, 1, 73.0\n",
      "2020-03-06, Friday, South, 30-49, rosé wine, 1, 5.1\n",
      "2020-04-16, Thursday, North, 50-, white wine, 1, 4.4\n",
      "2020-01-17, Friday, South, 50-, white wine, 1, 23.2\n",
      "2020-01-12, Sunday, Middle, 18-29, red wine, 1, 4.0\n",
      "2020-01-27, Monday, Middle, 50-, red wine, 1, 30.2\n",
      "2020-01-01, Wednesday, Middle, 30-49, red wine, 1, 33.2\n",
      "\n"
     ]
    }
   ],
   "source": [
    "with conn.cursor() as cur:\n",
    "    cur.execute('SELECT * FROM sales')\n",
    "    rows = cur.fetchall()\n",
    "    sales = \"date, weekday, region, age_group, product, product_group, sales_value\\n\"\n",
    "    for row in rows:\n",
    "        sales += (f'{row[0]}, {row[1]}, {row[2]}, {row[3]}, {row[4]}, {row[5]}, {row[6]}\\n')\n",
    "        \n",
    "print(sales)"
   ]
  },
  {
   "cell_type": "markdown",
   "metadata": {},
   "source": [
    "# Upload content to the data lake"
   ]
  },
  {
   "cell_type": "code",
   "execution_count": 30,
   "metadata": {},
   "outputs": [],
   "source": [
    "from google.cloud import storage\n",
    "from datetime import datetime"
   ]
  },
  {
   "cell_type": "code",
   "execution_count": 40,
   "metadata": {},
   "outputs": [],
   "source": [
    "filename = f\"webshop_sales_{datetime.now().strftime('%Y%m%d_%H%M%S')}.csv\"\n",
    "storage_client = storage.Client()\n",
    "bucket = storage_client.get_bucket(\"pk-gcs\")\n",
    "blob = bucket.blob(filename)\n",
    "\n",
    "blob.upload_from_string(sales, content_type='text/csv')"
   ]
  },
  {
   "cell_type": "code",
   "execution_count": null,
   "metadata": {},
   "outputs": [],
   "source": []
  }
 ],
 "metadata": {
  "environment": {
   "name": "common-cpu.m55",
   "type": "gcloud",
   "uri": "gcr.io/deeplearning-platform-release/base-cpu:m55"
  },
  "kernelspec": {
   "display_name": "Python 3",
   "language": "python",
   "name": "python3"
  },
  "language_info": {
   "codemirror_mode": {
    "name": "ipython",
    "version": 3
   },
   "file_extension": ".py",
   "mimetype": "text/x-python",
   "name": "python",
   "nbconvert_exporter": "python",
   "pygments_lexer": "ipython3",
   "version": "3.7.5"
  }
 },
 "nbformat": 4,
 "nbformat_minor": 4
}
